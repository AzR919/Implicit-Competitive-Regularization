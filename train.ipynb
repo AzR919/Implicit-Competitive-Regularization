{
 "cells": [
  {
   "cell_type": "code",
   "execution_count": null,
   "metadata": {},
   "outputs": [],
   "source": [
    "from models import dc_D, dc_G, dc_d, dc_g, GoodDiscriminator, GoodGenerator, GoodDiscriminatord\n",
    "from VisionData import GAN_trainer\n",
    "import torch\n",
    "from torchvision import transforms\n",
    "from torchvision.datasets import CIFAR10, MNIST\n",
    "import os\n",
    "os.environ['CUDA_VISIBLE_DEVICES'] = '0'\n",
    "torch.backends.cudnn.benchmark = True"
   ]
  },
  {
   "cell_type": "markdown",
   "metadata": {},
   "source": [
    "# MNIST"
   ]
  },
  {
   "cell_type": "code",
   "execution_count": null,
   "metadata": {},
   "outputs": [],
   "source": [
    "def transform(x):\n",
    "    x = transforms.ToTensor()(x)\n",
    "    return (x - 0.5) / 0.5\n",
    "data_root = '/datas/mnist'\n",
    "device = torch.device('cuda:0' if torch.cuda.is_available() else 'cpu')\n",
    "print(device)\n",
    "learning_rate = 0.0001\n",
    "z_dim = 96\n",
    "D = dc_D()\n",
    "G = dc_G(z_dim=z_dim)\n",
    "dataset = MNIST(data_root, train=True, transform=transform)\n",
    "trainer = GAN_trainer(D=D, G=G, device=device, dataset=dataset, z_dim=z_dim, batchsize=128, lr=learning_rate, show_iter=200,\n",
    "                         weight_decay=0.0, d_penalty=0.0, g_penalty=0, noise_shape=(64, z_dim), gp_weight=0)\n",
    "trainer.train_gd(epoch_num=50, mode='Adam', logname='MNIST2', dataname='MNIST')"
   ]
  },
  {
   "cell_type": "code",
   "execution_count": null,
   "metadata": {},
   "outputs": [],
   "source": [
    "trainer.load_checkpoint('checkpoints/0.00000MNIST-0.0001/0.00010_50000.pth', count=50000, load_d=True, load_g=True)\n",
    "# load_d: True load discriminator; load_g: True load generator"
   ]
  },
  {
   "cell_type": "code",
   "execution_count": null,
   "metadata": {},
   "outputs": [],
   "source": [
    "trainer.traing(epoch_num=5, mode='Adam', logname='MNIST3', dataname='MNIST')\n",
    "# train generator with discriminator fixed"
   ]
  },
  {
   "cell_type": "code",
   "execution_count": null,
   "metadata": {},
   "outputs": [],
   "source": [
    "trainer.train_d(epoch_num=100, mode='Adam', logname='MNIST2', dataname='MNIST')\n",
    "# train discriminator with generator fixed"
   ]
  },
  {
   "cell_type": "code",
   "execution_count": null,
   "metadata": {},
   "outputs": [],
   "source": [
    "trainer.train_ocgd(epoch_num=50, update_D=True, collect_info=True, logname='MNIST3', dataname='MNIST')\n",
    "# train one side CGD:\n",
    "# update_D: True: train discriminator with generator fixed\n",
    "# update_D: False: train generator with discriminator fixed"
   ]
  },
  {
   "cell_type": "markdown",
   "metadata": {},
   "source": [
    "# CIFAR 10"
   ]
  },
  {
   "cell_type": "code",
   "execution_count": null,
   "metadata": {},
   "outputs": [],
   "source": [
    "device = torch.device('cuda:0' if torch.cuda.is_available() else 'cpu')\n",
    "print(device)\n",
    "learning_rate = 0.0001\n",
    "batch_size = 64\n",
    "z_dim = 128\n",
    "dropout = None\n",
    "# Dropout: None or 0.5\n",
    "if dropout is not None:\n",
    "    print('dropout!')\n",
    "    D = GoodDiscriminatord(dropout=dropout)\n",
    "else:\n",
    "    D = GoodDiscriminator()\n",
    "G = GoodGenerator()\n",
    "dataset = CIFAR10(root='datas/cifar10', download=True, train=True, transform=transform)\n",
    "trainer = GAN_trainer(D=D, G=G, device=device, dataset=dataset, z_dim=z_dim, batchsize=batch_size, \n",
    "                      lr=learning_rate, show_iter=500, weight_decay=0.0, d_penalty=0.0, g_penalty=0, \n",
    "                      noise_shape=(64, z_dim), gp_weight=0)\n",
    "trainer.train_bcgd(epoch_num=300, mode='MCGD', collect_info=True, dataname='CIFAR10-WGAN', \n",
    "                   logname='CIFAR10-WGAN', loss_type='WGAN')\n",
    "# loss_type : WGAN, JSD"
   ]
  }
 ],
 "metadata": {
  "kernelspec": {
   "display_name": "Python 3",
   "language": "python",
   "name": "python3"
  },
  "language_info": {
   "codemirror_mode": {
    "name": "ipython",
    "version": 3
   },
   "file_extension": ".py",
   "mimetype": "text/x-python",
   "name": "python",
   "nbconvert_exporter": "python",
   "pygments_lexer": "ipython3",
   "version": "3.6.8"
  }
 },
 "nbformat": 4,
 "nbformat_minor": 2
}
